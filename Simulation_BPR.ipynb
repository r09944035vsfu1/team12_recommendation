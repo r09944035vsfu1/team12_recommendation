{
 "cells": [
  {
   "cell_type": "markdown",
   "id": "9e1f1e80",
   "metadata": {},
   "source": [
    "# Environment"
   ]
  },
  {
   "cell_type": "code",
   "execution_count": null,
   "id": "9e0c27f4",
   "metadata": {},
   "outputs": [],
   "source": [
    "!pip install implicit\n",
    "!pip install -U scikit-learn\n",
    "!pip install numpy\n",
    "!pip install matplotlib"
   ]
  },
  {
   "cell_type": "markdown",
   "id": "0b67ec42",
   "metadata": {},
   "source": [
    "# User Modeling"
   ]
  },
  {
   "cell_type": "code",
   "execution_count": 1,
   "id": "34202d0d",
   "metadata": {},
   "outputs": [],
   "source": [
    "import numpy as np\n",
    "import math\n",
    "class UserModel:\n",
    "\n",
    "    def __init__(self, user_num, startup_iter, new_item_num_per_iter=10, iter=1000, vec_dim=20):\n",
    "        self.user_num = user_num\n",
    "        self.startup_iter = startup_iter\n",
    "        self.startup = True\n",
    "        self.new_item_num_per_iter = new_item_num_per_iter\n",
    "        self.item_num = new_item_num_per_iter * iter\n",
    "        self.iter_num = iter\n",
    "        mu_user = 10 * np.random.dirichlet(np.ones(vec_dim))\n",
    "        mu_item = 0.1 * np.random.dirichlet(np.ones(vec_dim) * 100)\n",
    "        self.user_vec = np.array([np.random.dirichlet(mu_user) for _ in range(user_num)])\n",
    "        self.item_vec = np.array([np.random.dirichlet(mu_item) for _ in range(self.item_num)])\n",
    "\n",
    "        def alt_beta(mean, std=1e-5):\n",
    "            try:\n",
    "                alpha = math.pow(mean, 2) * (((1 - mean) / math.pow(std, 2)) - (1 / mean))\n",
    "                beta = alpha * ((1 / mean) - 1)\n",
    "                return np.random.beta(alpha, beta)\n",
    "            except:\n",
    "                return mean\n",
    "\n",
    "        _beta_func = np.vectorize(alt_beta)\n",
    "        row_utility = _beta_func(np.matmul(self.user_vec, self.item_vec.T))\n",
    "        proportion = _beta_func(0.98 * np.ones(row_utility.shape))\n",
    "        self.utility = row_utility * proportion\n",
    "        self.iter = -1\n",
    "        self.new_item = []\n",
    "        self.selected = np.zeros([1, self.user_num, self.item_num])\n",
    "        self.model_num = 0\n",
    "        self.new_iter()\n",
    "\n",
    "    def new_iter(self):\n",
    "        if self.iter < self.item_num - 1:\n",
    "            self.iter += 1\n",
    "            self.new_item = np.array([i for i in range(self.iter * 10, self.iter * 10 + 10)])\n",
    "            np.random.shuffle(self.new_item)\n",
    "            if self.iter >= self.startup_iter:\n",
    "                self.startup = False\n",
    "\n",
    "    def add_model(self):\n",
    "        self.model_num += 1\n",
    "        if self.model_num != 1:\n",
    "            self.selected = np.concatenate((self.selected, np.zeros([1, self.user_num, self.item_num])), axis=0)\n",
    "        return self.model_num - 1\n",
    "\n",
    "    def interleave(self, rank_list):\n",
    "        _tmp = rank_list[10:]\n",
    "        interleaved = np.array([])\n",
    "        for i in range(10):\n",
    "            interleaved = np.append(interleaved, rank_list[i])\n",
    "            interleaved = np.append(interleaved, self.new_item[i])\n",
    "        return np.append(interleaved, _tmp)\n",
    "\n",
    "    def recommend_oneuser(self, rank_list, u, model_idx):\n",
    "        if self.startup:\n",
    "            rank_list = self.new_item\n",
    "        else:\n",
    "            rank_list = np.array(rank_list)\n",
    "            #rank_list = self.interleave(rank_list)\n",
    "        select_item = -1\n",
    "        max_score = 0\n",
    "        for r, i in enumerate(rank_list):\n",
    "            score = math.pow(r + 1, -0.8) * self.utility[u, i]\n",
    "            if score > max_score and not self.selected[model_idx, u, i]:\n",
    "                max_score = score\n",
    "                select_item = i\n",
    "\n",
    "        self.selected[model_idx, u, select_item] = 1\n",
    "        return select_item\n",
    "\n",
    "    def recommend(self, rank_list, model_idx):\n",
    "        #rank_list = list(rank_list)\n",
    "        return [self.recommend_oneuser(r_list, u, model_idx) for u, r_list in enumerate(rank_list)]"
   ]
  },
  {
   "cell_type": "markdown",
   "id": "5e9d33ff",
   "metadata": {},
   "source": [
    "# User Modeling Config"
   ]
  },
  {
   "cell_type": "code",
   "execution_count": 2,
   "id": "7c646e26",
   "metadata": {},
   "outputs": [],
   "source": [
    "###### User Modeling Initialization ######\n",
    "startup_iter = 1000\n",
    "user_num = 100\n",
    "test = UserModel(user_num, startup_iter)\n",
    "idx = test.add_model() # assume there's only one model now\n",
    "\n",
    "###### start-up ######\n",
    "while test.startup:\n",
    "    test.recommend([None]*user_num, idx)\n",
    "    test.new_iter()"
   ]
  },
  {
   "cell_type": "markdown",
   "id": "0f441628",
   "metadata": {},
   "source": [
    "# Visualize user-item table"
   ]
  },
  {
   "cell_type": "code",
   "execution_count": 3,
   "id": "74f27fe1",
   "metadata": {
    "scrolled": true
   },
   "outputs": [
    {
     "data": {
      "image/png": "[encoded data removed]",
      "text/plain": [
       "<Figure size 1152x144 with 1 Axes>"
      ]
     },
     "metadata": {
      "needs_background": "light"
     },
     "output_type": "display_data"
    }
   ],
   "source": [
    "import matplotlib.pyplot as plt\n",
    "import numpy as np\n",
    "def visualize(user_item_table):\n",
    "    plt.matshow(user_item_table)\n",
    "    plt.show()\n",
    "visualize(test.selected[idx])"
   ]
  },
  {
   "cell_type": "markdown",
   "id": "7adc8895",
   "metadata": {},
   "source": [
    "# Train the Model"
   ]
  },
  {
   "cell_type": "code",
   "execution_count": 4,
   "id": "3726f31d",
   "metadata": {},
   "outputs": [],
   "source": [
    "from scipy.sparse import csr_matrix\n",
    "from implicit.bpr import BayesianPersonalizedRanking\n",
    "from implicit.evaluation import train_test_split, precision_at_k\n",
    "\n",
    "def data_loader(user_item_table):\n",
    "    np.random.seed(1234)\n",
    "    user_item_csr = csr_matrix(user_item_table)\n",
    "    user_item_train, user_item_test = train_test_split(user_item_csr, train_percentage=0.8)\n",
    "    return user_item_train, user_item_test"
   ]
  },
  {
   "cell_type": "code",
   "execution_count": 8,
   "id": "1debaf0b",
   "metadata": {},
   "outputs": [
    {
     "name": "stderr",
     "output_type": "stream",
     "text": [
      "GPU training requires factor size to be a multiple of 32 - 1. Increasing factors from 100 to 127.\n"
     ]
    },
    {
     "data": {
      "application/vnd.jupyter.widget-view+json": {
       "model_id": "0155f3a1ae5b4c9c9fa109b6aaf281ec",
       "version_major": 2,
       "version_minor": 0
      },
      "text/plain": [
       "  0%|          | 0/100 [00:00<?, ?it/s]"
      ]
     },
     "metadata": {},
     "output_type": "display_data"
    }
   ],
   "source": [
    "###### Get data & Train Model######\n",
    "## Train\n",
    "user_item_table = test.selected[idx]\n",
    "def train(user_item_table, bpr=None):\n",
    "    user_item_train, user_item_test = data_loader(user_item_table)\n",
    "    np.random.seed(1234)\n",
    "\n",
    "    if bpr:\n",
    "        bpr.fit(user_item_train.T.tocsr())\n",
    "    else:\n",
    "        bpr = BayesianPersonalizedRanking(iterations=100)\n",
    "        bpr.fit(user_item_train.T.tocsr()) \n",
    "    return bpr\n",
    "bpr = train(user_item_table,None)"
   ]
  },
  {
   "cell_type": "code",
   "execution_count": 9,
   "id": "09c437bb",
   "metadata": {},
   "outputs": [],
   "source": [
    "def recommend_all(bpr, user_item_table, user_num, top_k):\n",
    "    rank_list = list()    \n",
    "    for user_id in range(user_num):\n",
    "        reco = bpr.recommend(user_id, user_item_table, N=top_k, filter_already_liked_items=True)\n",
    "        single_rank_list = [element[0] for element in reco]\n",
    "        rank_list.append(single_rank_list)\n",
    "    return rank_list"
   ]
  },
  {
   "cell_type": "code",
   "execution_count": 10,
   "id": "8135dc33",
   "metadata": {},
   "outputs": [
    {
     "data": {
      "application/vnd.jupyter.widget-view+json": {
       "model_id": "ee5e88185c5045e586bc452392853a6d",
       "version_major": 2,
       "version_minor": 0
      },
      "text/plain": [
       "  0%|          | 0/100 [00:00<?, ?it/s]"
      ]
     },
     "metadata": {},
     "output_type": "display_data"
    },
    {
     "data": {
      "image/png": "[encoded data removed]",
      "text/plain": [
       "<Figure size 1152x144 with 1 Axes>"
      ]
     },
     "metadata": {
      "needs_background": "light"
     },
     "output_type": "display_data"
    },
    {
     "data": {
      "application/vnd.jupyter.widget-view+json": {
       "model_id": "de125cd87aba4d79b3e415a47dc9ff3a",
       "version_major": 2,
       "version_minor": 0
      },
      "text/plain": [
       "  0%|          | 0/100 [00:00<?, ?it/s]"
      ]
     },
     "metadata": {},
     "output_type": "display_data"
    },
    {
     "data": {
      "image/png": "[encoded data removed]",
      "text/plain": [
       "<Figure size 1152x144 with 1 Axes>"
      ]
     },
     "metadata": {
      "needs_background": "light"
     },
     "output_type": "display_data"
    },
    {
     "data": {
      "application/vnd.jupyter.widget-view+json": {
       "model_id": "64008d1960ee4bf2ae13a94e8948db16",
       "version_major": 2,
       "version_minor": 0
      },
      "text/plain": [
       "  0%|          | 0/100 [00:00<?, ?it/s]"
      ]
     },
     "metadata": {},
     "output_type": "display_data"
    },
    {
     "data": {
      "image/png": "[encoded data removed]",
      "text/plain": [
       "<Figure size 1152x144 with 1 Axes>"
      ]
     },
     "metadata": {
      "needs_background": "light"
     },
     "output_type": "display_data"
    },
    {
     "data": {
      "application/vnd.jupyter.widget-view+json": {
       "model_id": "67205197648c466085f38c07c9f3f1d9",
       "version_major": 2,
       "version_minor": 0
      },
      "text/plain": [
       "  0%|          | 0/100 [00:00<?, ?it/s]"
      ]
     },
     "metadata": {},
     "output_type": "display_data"
    },
    {
     "data": {
      "image/png": "[encoded data removed]",
      "text/plain": [
       "<Figure size 1152x144 with 1 Axes>"
      ]
     },
     "metadata": {
      "needs_background": "light"
     },
     "output_type": "display_data"
    },
    {
     "data": {
      "application/vnd.jupyter.widget-view+json": {
       "model_id": "2f275120bd7943a7b0fdb379b8d22339",
       "version_major": 2,
       "version_minor": 0
      },
      "text/plain": [
       "  0%|          | 0/100 [00:00<?, ?it/s]"
      ]
     },
     "metadata": {},
     "output_type": "display_data"
    },
    {
     "data": {
      "image/png": "[encoded data removed]",
      "text/plain": [
       "<Figure size 1152x144 with 1 Axes>"
      ]
     },
     "metadata": {
      "needs_background": "light"
     },
     "output_type": "display_data"
    },
    {
     "data": {
      "application/vnd.jupyter.widget-view+json": {
       "model_id": "ae2ce783e68e4a7e9c67fcccaf768f86",
       "version_major": 2,
       "version_minor": 0
      },
      "text/plain": [
       "  0%|          | 0/100 [00:00<?, ?it/s]"
      ]
     },
     "metadata": {},
     "output_type": "display_data"
    },
    {
     "data": {
      "image/png": "[encoded data removed]",
      "text/plain": [
       "<Figure size 1152x144 with 1 Axes>"
      ]
     },
     "metadata": {
      "needs_background": "light"
     },
     "output_type": "display_data"
    },
    {
     "data": {
      "application/vnd.jupyter.widget-view+json": {
       "model_id": "4da6f8236bfb4b62aa58dacdf7fc44b4",
       "version_major": 2,
       "version_minor": 0
      },
      "text/plain": [
       "  0%|          | 0/100 [00:00<?, ?it/s]"
      ]
     },
     "metadata": {},
     "output_type": "display_data"
    },
    {
     "data": {
      "image/png": "[encoded data removed]",
      "text/plain": [
       "<Figure size 1152x144 with 1 Axes>"
      ]
     },
     "metadata": {
      "needs_background": "light"
     },
     "output_type": "display_data"
    },
    {
     "data": {
      "application/vnd.jupyter.widget-view+json": {
       "model_id": "30c380849170473fa7b0ba65e6114b7b",
       "version_major": 2,
       "version_minor": 0
      },
      "text/plain": [
       "  0%|          | 0/100 [00:00<?, ?it/s]"
      ]
     },
     "metadata": {},
     "output_type": "display_data"
    },
    {
     "data": {
      "image/png": "[encoded data removed]",
      "text/plain": [
       "<Figure size 1152x144 with 1 Axes>"
      ]
     },
     "metadata": {
      "needs_background": "light"
     },
     "output_type": "display_data"
    },
    {
     "data": {
      "application/vnd.jupyter.widget-view+json": {
       "model_id": "18b8eee8b2dc487e8c919213a6bc54ca",
       "version_major": 2,
       "version_minor": 0
      },
      "text/plain": [
       "  0%|          | 0/100 [00:00<?, ?it/s]"
      ]
     },
     "metadata": {},
     "output_type": "display_data"
    },
    {
     "data": {
      "image/png": "[encoded data removed]",
      "text/plain": [
       "<Figure size 1152x144 with 1 Axes>"
      ]
     },
     "metadata": {
      "needs_background": "light"
     },
     "output_type": "display_data"
    },
    {
     "data": {
      "application/vnd.jupyter.widget-view+json": {
       "model_id": "aed2d24fd481445a91ac8af24e879dc9",
       "version_major": 2,
       "version_minor": 0
      },
      "text/plain": [
       "  0%|          | 0/100 [00:00<?, ?it/s]"
      ]
     },
     "metadata": {},
     "output_type": "display_data"
    },
    {
     "data": {
      "image/png": "[encoded data removed]",
      "text/plain": [
       "<Figure size 1152x144 with 1 Axes>"
      ]
     },
     "metadata": {
      "needs_background": "light"
     },
     "output_type": "display_data"
    }
   ],
   "source": [
    "###### User Feedback(Interaction) & Retrain The Model ######\n",
    "feedback_iteration = 10\n",
    "for i in range(feedback_iteration):\n",
    "    ## Inference\n",
    "    old_user_item_table = test.selected[idx].copy()\n",
    "    top_k = 20 # assume recommend 30 items to each user\n",
    "    rank_list = recommend_all(bpr, csr_matrix(old_user_item_table), user_num=100, top_k=top_k) # size of rank_list : (user_num, top_k)\n",
    "    \n",
    "    ## User Interaction\n",
    "    test.recommend(rank_list, model_idx=idx)\n",
    "    new_user_item_table = test.selected[idx].copy()\n",
    "    \n",
    "    ## Retrain Model\n",
    "    #diff_user_item_table = new_user_item_table - old_user_item_table\n",
    "    bpr = train(new_user_item_table, bpr)\n",
    "    \n",
    "    visualize(new_user_item_table)"
   ]
  },
  {
   "cell_type": "code",
   "execution_count": null,
   "id": "e6b7b180",
   "metadata": {},
   "outputs": [],
   "source": []
  }
 ],
 "metadata": {
  "kernelspec": {
   "display_name": "Python (matching)",
   "language": "python",
   "name": "matching"
  },
  "language_info": {
   "codemirror_mode": {
    "name": "ipython",
    "version": 3
   },
   "file_extension": ".py",
   "mimetype": "text/x-python",
   "name": "python",
   "nbconvert_exporter": "python",
   "pygments_lexer": "ipython3",
   "version": "3.8.10"
  }
 },
 "nbformat": 4,
 "nbformat_minor": 5
}
