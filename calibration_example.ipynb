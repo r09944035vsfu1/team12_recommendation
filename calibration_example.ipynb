{
 "cells": [
  {
   "cell_type": "code",
   "execution_count": 36,
   "id": "e490770a",
   "metadata": {},
   "outputs": [],
   "source": [
    "import numpy as np\n"
   ]
  },
  {
   "cell_type": "code",
   "execution_count": 1,
   "id": "e0d7ccb5",
   "metadata": {},
   "outputs": [],
   "source": [
    "def compute_genre_distr(item_list):\n",
    "    \"\"\"\n",
    "    Input : A list ,  list of items, item with item_id, genre and genre_scale(score)  \n",
    "    Output : A dict\n",
    "    \"\"\"\n",
    "    distr = {}\n",
    "    for item in item_list:\n",
    "        for genre, score in item.genres.items():\n",
    "            genre_score = distr.get(genre, 0.)\n",
    "            distr[genre] = genre_score + score\n",
    "\n",
    "    # we normalize the summed up probability so it sums up to 1\n",
    "    # and round it to three decimal places, adding more precision\n",
    "    # doesn't add much value and clutters the output\n",
    "    for item, genre_score in distr.items():\n",
    "        normed_genre_score = round(genre_score / len(item_list), 3)\n",
    "        distr[item] = normed_genre_score\n",
    "\n",
    "    return distr"
   ]
  },
  {
   "cell_type": "code",
   "execution_count": 2,
   "id": "c641b8a2",
   "metadata": {},
   "outputs": [],
   "source": [
    "def distr_comparison_plot(interacted_distr, reco_distr, width=0.3):\n",
    "    \"\"\"\n",
    "    Input : two dict\n",
    "    eample for single dict:\n",
    "        {'Comedy': 0.062,\n",
    "         'Horror': 0.225,\n",
    "         'Thriller': 0.163,\n",
    "         'Action': 0.087,\n",
    "         'Fantasy': 0.129,\n",
    "         'Adventure': 0.108,\n",
    "         'Drama': 0.029,\n",
    "         'Sci-Fi': 0.071,\n",
    "         'Mystery': 0.046,\n",
    "         'Animation': 0.037,\n",
    "         'Children': 0.029,\n",
    "         'Romance': 0.013}\n",
    "    \"\"\"\n",
    "    # the value will automatically be converted to a column with the\n",
    "    # column name of '0'\n",
    "    interacted = pd.DataFrame.from_dict(interacted_distr, orient='index')\n",
    "    reco = pd.DataFrame.from_dict(reco_distr, orient='index')\n",
    "    df = interacted.join(reco, how='outer', lsuffix='_interacted')\n",
    "\n",
    "    n = df.shape[0]\n",
    "    index = np.arange(n)\n",
    "    plt.barh(index, df['0_interacted'], height=width, label='interacted distr')\n",
    "    plt.barh(index + width, df['0'], height=width, label='reco distr')\n",
    "    plt.yticks(index, df.index)\n",
    "    plt.legend(bbox_to_anchor=(1, 0.5))\n",
    "    plt.title('Genre Distribution between User Historical Interaction v.s. Recommendation')\n",
    "    plt.ylabel('Genre')\n",
    "    plt.show()"
   ]
  },
  {
   "cell_type": "code",
   "execution_count": 3,
   "id": "b17f62bd",
   "metadata": {},
   "outputs": [],
   "source": [
    "def compute_kl_divergence(interacted_distr, reco_distr, alpha=0.01):\n",
    "    \"\"\"\n",
    "    Input : two dict\n",
    "    example:\n",
    "        {'Comedy': 0.062,\n",
    "         'Horror': 0.225,\n",
    "         'Thriller': 0.163,\n",
    "         'Action': 0.087,\n",
    "         'Fantasy': 0.129,\n",
    "         'Adventure': 0.108,\n",
    "         'Drama': 0.029,\n",
    "         'Sci-Fi': 0.071,\n",
    "         'Mystery': 0.046,\n",
    "         'Animation': 0.037,\n",
    "         'Children': 0.029,\n",
    "         'Romance': 0.013}\n",
    "    \"\"\"\n",
    "    \n",
    "    \"\"\"\n",
    "    KL (p || q), the lower the better.\n",
    "\n",
    "    alpha is not really a tuning parameter, it's just there to make the\n",
    "    computation more numerically stable.\n",
    "    \"\"\"\n",
    "    kl_div = 0.\n",
    "    for genre, score in interacted_distr.items():\n",
    "        reco_score = reco_distr.get(genre, 0.)\n",
    "        reco_score = (1 - alpha) * reco_score + alpha * score\n",
    "        kl_div += score * np.log2(score / reco_score)\n",
    "\n",
    "    return kl_div"
   ]
  },
  {
   "cell_type": "code",
   "execution_count": 21,
   "id": "5853e003",
   "metadata": {},
   "outputs": [],
   "source": [
    "def compute_utility(reco_items, interacted_distr, lmbda=0.5):\n",
    "    \"\"\"\n",
    "    Input : reco_items : a list of Item Class\n",
    "            interacted_distr : compute_genre_distr(ideal_item_list)\n",
    "    \"\"\"\n",
    "    \n",
    "    \"\"\"\n",
    "    Our objective function for computing the utility score for\n",
    "    the list of recommended items.\n",
    "\n",
    "    lmbda : float, 0.0 ~ 1.0, default 0.5\n",
    "        Lambda term controls the score and calibration tradeoff,\n",
    "        the higher the lambda the higher the resulting recommendation\n",
    "        will be calibrated. Lambda is keyword in Python, so it's\n",
    "        lmbda instead ^^\n",
    "    \"\"\"\n",
    "    reco_distr = compute_genre_distr(reco_items)\n",
    "    kl_div = compute_kl_divergence(interacted_distr, reco_distr)\n",
    "\n",
    "    total_score = 0.0\n",
    "    for item in reco_items:\n",
    "        total_score += item.score\n",
    "    \n",
    "    # kl divergence is the lower the better, while score is\n",
    "    # the higher the better so remember to negate it in the calculation\n",
    "    utility = (1 - lmbda) * total_score - lmbda * kl_div\n",
    "    return utility"
   ]
  },
  {
   "cell_type": "code",
   "execution_count": 22,
   "id": "cff4e9cb",
   "metadata": {},
   "outputs": [],
   "source": [
    "def calib_recommend(items, interacted_distr, topn, lmbda=0.5):\n",
    "    \"\"\"\n",
    "    start with an empty recommendation list,\n",
    "    loop over the topn cardinality, during each iteration\n",
    "    update the list with the item that maximizes the utility function.\n",
    "    \"\"\"\n",
    "    calib_reco = []\n",
    "    for _ in range(topn):\n",
    "        max_utility = -np.inf\n",
    "        for item in items:\n",
    "            if item in calib_reco:\n",
    "                continue\n",
    "\n",
    "            utility = compute_utility(calib_reco + [item], interacted_distr, lmbda)\n",
    "            if utility > max_utility:\n",
    "                max_utility = utility\n",
    "                best_item = item\n",
    "\n",
    "        calib_reco.append(best_item)\n",
    "        \n",
    "    return calib_reco"
   ]
  },
  {
   "cell_type": "code",
   "execution_count": 23,
   "id": "ac8fc791",
   "metadata": {},
   "outputs": [],
   "source": [
    "class Item:\n",
    "    \"\"\"\n",
    "    Data holder for our item.\n",
    "    \n",
    "    Parameters\n",
    "    ----------\n",
    "    id : int\n",
    "  \n",
    "    genre : dict[str, float]\n",
    "        The item/movie's genre distribution, where the key\n",
    "        represents the genre and value corresponds to the\n",
    "        ratio of that genre.\n",
    "\n",
    "    score : float\n",
    "        Score for the item, potentially generated by some\n",
    "        recommendation algorithm.\n",
    "    \"\"\"\n",
    "    def __init__(self, _id, genres, score=None):\n",
    "        self.id = _id\n",
    "        self.score = score\n",
    "        self.genres = genres\n"
   ]
  },
  {
   "cell_type": "markdown",
   "id": "28e05c9d",
   "metadata": {},
   "source": [
    "# Ranking List and Ideal List"
   ]
  },
  {
   "cell_type": "code",
   "execution_count": 28,
   "id": "b8e95ff1",
   "metadata": {},
   "outputs": [],
   "source": [
    "ranking_list = [Item(0,genres={\"A\":1.0}, score=1.33),Item(7,genres={\"B\":1.0}, score=1.2)]"
   ]
  },
  {
   "cell_type": "code",
   "execution_count": 29,
   "id": "8e5426fc",
   "metadata": {},
   "outputs": [],
   "source": [
    "ideal_item_list = [Item(1,genres={\"C\":1.0},score=None), Item(2,genres={\"B\":1.0},score=None)]\n",
    "ideal_item_distribution = compute_genre_distr(ideal_item_list)"
   ]
  },
  {
   "cell_type": "markdown",
   "id": "9e18a8af",
   "metadata": {},
   "source": [
    "# Utility Function (Score from recommendation & KL divergence)"
   ]
  },
  {
   "cell_type": "code",
   "execution_count": 30,
   "id": "fa94dfff",
   "metadata": {},
   "outputs": [
    {
     "data": {
      "text/plain": [
       "-0.39596404744368097"
      ]
     },
     "execution_count": 30,
     "metadata": {},
     "output_type": "execute_result"
    }
   ],
   "source": [
    "compute_utility(ranking_list, ideal_item_distribution)"
   ]
  },
  {
   "cell_type": "markdown",
   "id": "86a7d64a",
   "metadata": {},
   "source": [
    "# Calibration"
   ]
  },
  {
   "cell_type": "code",
   "execution_count": 35,
   "id": "35c2b5d4",
   "metadata": {},
   "outputs": [],
   "source": [
    "def calib_recommend(items, interacted_distr, topn, lmbda=0.5):\n",
    "    \"\"\"\n",
    "    start with an empty recommendation list,\n",
    "    loop over the topn cardinality, during each iteration\n",
    "    update the list with the item that maximizes the utility function.\n",
    "    \"\"\"\n",
    "    calib_reco = []\n",
    "    for _ in range(topn):\n",
    "        max_utility = -np.inf\n",
    "        for item in items:\n",
    "            if item in calib_reco:\n",
    "                continue\n",
    "\n",
    "            utility = compute_utility(calib_reco + [item], interacted_distr, lmbda)\n",
    "            if utility > max_utility:\n",
    "                max_utility = utility\n",
    "                best_item = item\n",
    "        calib_reco.append(best_item)\n",
    "        \n",
    "    return calib_reco\n",
    "\n",
    "calibrated_list = calib_recommend(ranking_list, ideal_item_distribution, 1)"
   ]
  },
  {
   "cell_type": "code",
   "execution_count": null,
   "id": "9ab62dd9",
   "metadata": {},
   "outputs": [],
   "source": []
  },
  {
   "cell_type": "code",
   "execution_count": null,
   "id": "92daf4a2",
   "metadata": {},
   "outputs": [],
   "source": []
  }
 ],
 "metadata": {
  "kernelspec": {
   "display_name": "Python (matching)",
   "language": "python",
   "name": "matching"
  },
  "language_info": {
   "codemirror_mode": {
    "name": "ipython",
    "version": 3
   },
   "file_extension": ".py",
   "mimetype": "text/x-python",
   "name": "python",
   "nbconvert_exporter": "python",
   "pygments_lexer": "ipython3",
   "version": "3.8.10"
  }
 },
 "nbformat": 4,
 "nbformat_minor": 5
}
