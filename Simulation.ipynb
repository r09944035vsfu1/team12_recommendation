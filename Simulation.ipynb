{
 "cells": [
  {
   "cell_type": "markdown",
   "id": "38645732",
   "metadata": {},
   "source": [
    "# Environment"
   ]
  },
  {
   "cell_type": "code",
   "execution_count": 1,
   "id": "b4cd9cfa",
   "metadata": {},
   "outputs": [
    {
     "name": "stdout",
     "output_type": "stream",
     "text": [
      "Requirement already satisfied: implicit in /home/fengyu/miniconda3/envs/matching/lib/python3.8/site-packages (0.4.4)\n",
      "Requirement already satisfied: scipy>=0.16 in /home/fengyu/miniconda3/envs/matching/lib/python3.8/site-packages (from implicit) (1.5.3)\n",
      "Requirement already satisfied: tqdm>=4.27 in /home/fengyu/miniconda3/envs/matching/lib/python3.8/site-packages (from implicit) (4.61.0)\n",
      "Requirement already satisfied: numpy in /home/fengyu/miniconda3/envs/matching/lib/python3.8/site-packages (from implicit) (1.19.4)\n",
      "Requirement already satisfied: scikit-learn in /home/fengyu/miniconda3/envs/matching/lib/python3.8/site-packages (0.24.2)\n",
      "Requirement already satisfied: scipy>=0.19.1 in /home/fengyu/miniconda3/envs/matching/lib/python3.8/site-packages (from scikit-learn) (1.5.3)\n",
      "Requirement already satisfied: threadpoolctl>=2.0.0 in /home/fengyu/miniconda3/envs/matching/lib/python3.8/site-packages (from scikit-learn) (2.1.0)\n",
      "Requirement already satisfied: numpy>=1.13.3 in /home/fengyu/miniconda3/envs/matching/lib/python3.8/site-packages (from scikit-learn) (1.19.4)\n",
      "Requirement already satisfied: joblib>=0.11 in /home/fengyu/miniconda3/envs/matching/lib/python3.8/site-packages (from scikit-learn) (1.0.1)\n",
      "Requirement already satisfied: numpy in /home/fengyu/miniconda3/envs/matching/lib/python3.8/site-packages (1.19.4)\n",
      "Requirement already satisfied: matplotlib in /home/fengyu/miniconda3/envs/matching/lib/python3.8/site-packages (3.4.2)\n",
      "Requirement already satisfied: cycler>=0.10 in /home/fengyu/miniconda3/envs/matching/lib/python3.8/site-packages (from matplotlib) (0.10.0)\n",
      "Requirement already satisfied: pillow>=6.2.0 in /home/fengyu/miniconda3/envs/matching/lib/python3.8/site-packages (from matplotlib) (8.2.0)\n",
      "Requirement already satisfied: numpy>=1.16 in /home/fengyu/miniconda3/envs/matching/lib/python3.8/site-packages (from matplotlib) (1.19.4)\n",
      "Requirement already satisfied: kiwisolver>=1.0.1 in /home/fengyu/miniconda3/envs/matching/lib/python3.8/site-packages (from matplotlib) (1.3.1)\n",
      "Requirement already satisfied: pyparsing>=2.2.1 in /home/fengyu/miniconda3/envs/matching/lib/python3.8/site-packages (from matplotlib) (2.4.7)\n",
      "Requirement already satisfied: python-dateutil>=2.7 in /home/fengyu/miniconda3/envs/matching/lib/python3.8/site-packages (from matplotlib) (2.8.1)\n",
      "Requirement already satisfied: six in /home/fengyu/miniconda3/envs/matching/lib/python3.8/site-packages (from cycler>=0.10->matplotlib) (1.15.0)\n"
     ]
    }
   ],
   "source": [
    "!pip install implicit\n",
    "!pip install -U scikit-learn\n",
    "!pip install numpy\n",
    "!pip install matplotlib"
   ]
  },
  {
   "cell_type": "markdown",
   "id": "f64f5a50",
   "metadata": {},
   "source": [
    "# MF utils"
   ]
  },
  {
   "cell_type": "code",
   "execution_count": 2,
   "id": "75bb07b5",
   "metadata": {},
   "outputs": [],
   "source": [
    "from scipy.sparse import csr_matrix\n",
    "from implicit.bpr import BayesianPersonalizedRanking\n",
    "from implicit.evaluation import train_test_split, precision_at_k\n",
    "\n",
    "def data_loader(user_item_table):\n",
    "    np.random.seed(1234)\n",
    "    user_item_csr = csr_matrix(user_item_table)\n",
    "    user_item_train, user_item_test = train_test_split(user_item_csr, train_percentage=0.8)\n",
    "    return user_item_train, user_item_test\n",
    "def recommend_all(bpr, user_item_table, user_num, top_k):\n",
    "    rank_list = list() \n",
    "    score_list = list()\n",
    "    for user_id in range(user_num):\n",
    "        reco = bpr.recommend(user_id, user_item_table, N=top_k, filter_already_liked_items=True)\n",
    "        single_rank_list = [element[0] for element in reco]\n",
    "        single_score_list = [element[1] for element in reco]\n",
    "        rank_list.append(single_rank_list)\n",
    "        score_list.append(single_score_list)\n",
    "    return rank_list, score_list\n",
    "def train(user_item_table, bpr=None):\n",
    "    user_item_train, user_item_test = data_loader(user_item_table)\n",
    "    np.random.seed(1234)\n",
    "    if bpr:\n",
    "        bpr.fit(user_item_train.T.tocsr())\n",
    "    else:\n",
    "        bpr = BayesianPersonalizedRanking(iterations=100)\n",
    "        bpr.fit(user_item_train.T.tocsr()) \n",
    "    return bpr\n",
    "def mf_neighnorhood(u_id, mf):\n",
    "    return mf.similar_users(u_id)[1][0]"
   ]
  },
  {
   "cell_type": "markdown",
   "id": "d3288662",
   "metadata": {},
   "source": [
    "# Item Attributes"
   ]
  },
  {
   "cell_type": "code",
   "execution_count": 3,
   "id": "aa378a52",
   "metadata": {},
   "outputs": [],
   "source": [
    "import numpy as np\n",
    "import matplotlib.pyplot as plt\n",
    "from user_model import UserModel, Popularity\n",
    "from calibration import *\n",
    "\n",
    "class ItemAttributes:\n",
    "    def __init__(self):\n",
    "        \n",
    "        self.user_num = 100 \n",
    "        self.item_num = 1000\n",
    "        startup_iter = 100 - 1 # start up until all itmes include\n",
    "        \n",
    "        self.pseudo_usermodel = UserModel(self.user_num, startup_iter)\n",
    "        self.ideal_idx = self.pseudo_usermodel.add_model()\n",
    "        \n",
    "        ###### start-up ######\n",
    "        while self.pseudo_usermodel.startup:\n",
    "            self.pseudo_usermodel.recommend([None]*self.user_num, self.ideal_idx)\n",
    "            self.pseudo_usermodel.new_iter()\n",
    "                \n",
    "        self.ideal_item_list = self.ideal_ItemList()\n",
    "        \n",
    "    def ideal_ItemList(self, user_model=None):\n",
    "        user_ideal_list = []\n",
    "        if not user_model:\n",
    "            for item_vec in self.pseudo_usermodel.selected[self.ideal_idx]:\n",
    "                user_ideal_list.append(np.nonzero(item_vec)[0].tolist()) # np.nonzero returns a tuple, so use np.nonzero()[0] to get the answer\n",
    "        else:\n",
    "            for item_vec in user_model.selected[0]:\n",
    "                user_ideal_list.append(np.nonzero(item_vec)[0].tolist()) # np.nonzero returns a tuple, so use np.nonzero()[0] to get the answer\n",
    "        return user_ideal_list\n",
    "    \n",
    "\n",
    "    def thresholding(self, user_model):\n",
    "        # use mean as threshold\n",
    "        attributes_threshold = np.mean(user_model.item_vec, axis=0) # shape : (item_vec_dim=20,)\n",
    "        \n",
    "        # map from \"item index\" to \"Item Class\"\n",
    "        item_mapping = {}\n",
    "        for item_id in range(self.item_num):\n",
    "            item_vector = user_model.item_vec[item_id]\n",
    "            attributes = (np.nonzero(item_vector >= attributes_threshold)[0]).tolist() # np.nonzero returns a tuple, so use np.nonzero()[0] to get the answer\n",
    "            attributes_ratio = 1. / len(attributes)\n",
    "            item_attributes = {single_attribute: attributes_ratio for single_attribute in attributes}\n",
    "            item_mapping[item_id] = Item(item_id, item_attributes, score=None)\n",
    "        \n",
    "        return item_mapping\n",
    "    \n",
    "    def ItemDistribution(self, item_list, item_mapping):\n",
    "        # elements in item_list are all item_id, and it's size is (user_num, *),  \n",
    "        # e.g ranking list : (user_num, topK)\n",
    "        # e.g ideal list : (user_num, num_InteractedItems_in_ideal_case)\n",
    "        \n",
    "        distribution_list = []\n",
    "        # item mapping & compute distribution\n",
    "        for user_item_list in item_list:\n",
    "            preprocess_item_list = [item_mapping[item_id] for item_id in user_item_list]        \n",
    "            distribution = compute_genre_distr(preprocess_item_list)\n",
    "            distribution_list.append(distribution)\n",
    "\n",
    "        return distribution_list\n",
    "        \n",
    "\n",
    "def calibration_all(rank_list, score_list, itemId2Item, ideal_distribution_list):\n",
    "    calibrated_rank_list = []\n",
    "    for user_id in range(len(rank_list)):\n",
    "\n",
    "        # transform\n",
    "        user_ranking_list = [itemId2Item[item_id] for item_id in rank_list[user_id]]\n",
    "        user_score_list = score_list[user_id]\n",
    "\n",
    "        # preprocess and get ideal distribution    \n",
    "        for i in range(len(user_ranking_list)):\n",
    "            user_ranking_list[i].score = user_score_list[i]\n",
    "        user_ideal_distribution = ideal_distribution_list[user_id]\n",
    "\n",
    "        # calibration\n",
    "        postprocess_user_rank_list, _ = calib_recommend(user_ranking_list, user_ideal_distribution, topn=len(rank_list[user_id]), lmbda=0.99)\n",
    "        calibrated_rank_list.append(postprocess_user_rank_list)\n",
    "    return calibrated_rank_list"
   ]
  },
  {
   "cell_type": "markdown",
   "id": "d7becc3c",
   "metadata": {},
   "source": [
    "# 1.Offline Item List"
   ]
  },
  {
   "cell_type": "code",
   "execution_count": null,
   "id": "ee22e38c",
   "metadata": {},
   "outputs": [],
   "source": [
    "import numpy as np\n",
    "import matplotlib.pyplot as plt\n",
    "from user_model import UserModel, Popularity\n",
    "from IPython.display import clear_output\n",
    "\n",
    "jaccard_list = list()\n",
    "\n",
    "for _ in range(10):\n",
    "\n",
    "    _jaccard_list = list()\n",
    "\n",
    "    user_num = 100\n",
    "    iter_num = 100\n",
    "\n",
    "    user_model = UserModel(user_num, 10, iter=iter_num)\n",
    "\n",
    "    neighborhood = user_model.neighborhood()\n",
    "\n",
    "    popularity_model = Popularity(user_num, 10 * iter_num)\n",
    "    \n",
    "    ideal_idx = user_model.add_model()\n",
    "    popularity_idx = user_model.add_model()\n",
    "    mf_idx = user_model.add_model()\n",
    "    mf_calibration_idx = user_model.add_model()\n",
    "    bpr = None # mf model\n",
    "    bpr_calibration = None\n",
    "    \n",
    "    ### Calibration Config############\n",
    "    pseudo_attributes = ItemAttributes()\n",
    "    itemId2Item = pseudo_attributes.thresholding(user_model)\n",
    "    ideal_distribution_list = pseudo_attributes.ItemDistribution(pseudo_attributes.ideal_item_list, itemId2Item)\n",
    "    ##################################\n",
    "    \n",
    "    for iter in range(iter_num):\n",
    "        clear_output(wait=True)\n",
    "        # Ideal\n",
    "        if iter < 10:\n",
    "            user_model.recommend([[] for _ in range(user_num)], ideal_idx)\n",
    "        else:\n",
    "            user_model.recommend(user_model.get_ideal(ideal_idx), ideal_idx)\n",
    "        \n",
    "        ideal_jaccard = np.array([user_model.jaccard(ideal_idx, u, neighborhood[u]) for u in range(user_num)]).mean()\n",
    "        # end Ideal\n",
    "\n",
    "        # Popularity\n",
    "        if iter < 10:\n",
    "            feedback = user_model.recommend([[] for _ in range(user_num)], popularity_idx)\n",
    "            popularity_model.feedback(feedback)\n",
    "        else:\n",
    "            pred = popularity_model.predict(user_model.selected[popularity_idx])\n",
    "            feedback = user_model.recommend(pred, popularity_idx)\n",
    "            popularity_model.feedback(feedback)\n",
    "\n",
    "        popularity_jaccard = np.array([user_model.jaccard(popularity_idx, u, neighborhood[u]) for u in range(user_num)]).mean()\n",
    "        # end Popularity\n",
    "        \n",
    "        # MF & MF calibration\n",
    "        if iter < 10:\n",
    "            feedback = user_model.recommend([[] for _ in range(user_num)], mf_idx)\n",
    "            feedback = user_model.recommend([[] for _ in range(user_num)], mf_calibration_idx)\n",
    "        else:\n",
    "            if not bpr: \n",
    "                bpr = train(user_model.selected[mf_idx].copy(),None)\n",
    "            if not bpr_calibration:\n",
    "                bpr_calibration = train(user_model.selected[mf_calibration_idx].copy(), None)\n",
    "             \n",
    "            ########## MF ##############\n",
    "            ## Inference\n",
    "            old_user_item_table = user_model.selected[mf_idx].copy()\n",
    "            top_k = 20 # assume recommend 20 items to each user\n",
    "            rank_list, _ = recommend_all(bpr, csr_matrix(old_user_item_table), user_num=100, top_k=top_k) # size of rank_list : (user_num, top_k)\n",
    "\n",
    "            ## User Interaction\n",
    "            user_model.recommend(rank_list, model_idx=mf_idx)\n",
    "            new_user_item_table = user_model.selected[mf_idx].copy()\n",
    "\n",
    "            ## Retrain Model\n",
    "            bpr = train(new_user_item_table, bpr)\n",
    "            ###########################\n",
    "            \n",
    "            ######## MF Calibration #####\n",
    "            ## Inference\n",
    "            old_user_item_table = user_model.selected[mf_calibration_idx].copy()\n",
    "            top_k = 20 # assume recommend 20 items to each user\n",
    "            rank_list, score_list = recommend_all(bpr_calibration, csr_matrix(old_user_item_table), user_num=100, top_k=top_k) # size of rank_list : (user_num, top_k)\n",
    "            post_rank_list = calibration_all(rank_list, score_list, itemId2Item, ideal_distribution_list)\n",
    "            \n",
    "            ## User Interaction\n",
    "            user_model.recommend(post_rank_list, model_idx=mf_calibration_idx)\n",
    "            new_user_item_table = user_model.selected[mf_calibration_idx].copy()\n",
    "\n",
    "            ## Retrain Model\n",
    "            bpr_calibration = train(new_user_item_table, bpr_calibration)\n",
    "            ###########################\n",
    "        if bpr:\n",
    "            mf_jaccard = np.array([user_model.jaccard(mf_idx, u, mf_neighnorhood(u,bpr)) for u in range(user_num)]).mean()\n",
    "            ideal_jaccard2 = np.array([user_model.jaccard(ideal_idx, u, mf_neighnorhood(u,bpr)) for u in range(user_num)]).mean()\n",
    "        else:\n",
    "            mf_jaccard = np.array([user_model.jaccard(mf_idx, u, neighborhood[u]) for u in range(user_num)]).mean() \n",
    "            ideal_jaccard2 = np.array([user_model.jaccard(ideal_idx, u, neighborhood[u]) for u in range(user_num)]).mean()\n",
    "        # end MF\n",
    "        if bpr_calibration:\n",
    "            mf_calibration_jaccard = np.array([user_model.jaccard(mf_calibration_idx, u, mf_neighnorhood(u,bpr_calibration)) for u in range(user_num)]).mean()\n",
    "            ideal_jaccard3 = np.array([user_model.jaccard(ideal_idx, u, mf_neighnorhood(u,bpr_calibration)) for u in range(user_num)]).mean()\n",
    "        else:\n",
    "            mf_calibration_jaccard = np.array([user_model.jaccard(mf_calibration_idx, u, neighborhood[u]) for u in range(user_num)]).mean() \n",
    "            ideal_jaccard3 = np.array([user_model.jaccard(ideal_idx, u, neighborhood[u]) for u in range(user_num)]).mean()\n",
    "        # end MF calibration\n",
    "        \n",
    "        \n",
    "        _jaccard_list.append([popularity_jaccard - ideal_jaccard, mf_jaccard - ideal_jaccard2, mf_calibration_jaccard - ideal_jaccard3])\n",
    "        user_model.new_iter()\n",
    "        \n",
    "    jaccard_list.append(_jaccard_list)\n",
    "    #clear_output()"
   ]
  },
  {
   "cell_type": "code",
   "execution_count": null,
   "id": "9b4fbba5",
   "metadata": {},
   "outputs": [],
   "source": [
    "#jaccard_list = np.array(jaccard_list)\n",
    "plt.clf()\n",
    "plt.scatter(list(range(100)), np.array(jaccard_list).mean(axis=0)[:,0])\n",
    "plt.scatter(list(range(100)), np.array(jaccard_list).mean(axis=0)[:,1])\n",
    "plt.scatter(list(range(100)), np.array(jaccard_list).mean(axis=0)[:,2])"
   ]
  },
  {
   "cell_type": "markdown",
   "id": "6fd4a912",
   "metadata": {},
   "source": [
    "# result(lambda=0.5)"
   ]
  },
  {
   "cell_type": "code",
   "execution_count": 6,
   "id": "5f5a6832",
   "metadata": {},
   "outputs": [
    {
     "data": {
      "text/plain": [
       "<matplotlib.collections.PathCollection at 0x7fdfafe97be0>"
      ]
     },
     "execution_count": 6,
     "metadata": {},
     "output_type": "execute_result"
    },
    {
     "data": {
      "image/png": "[encoded data removed]",
      "text/plain": [
       "<Figure size 432x288 with 1 Axes>"
      ]
     },
     "metadata": {
      "needs_background": "light"
     },
     "output_type": "display_data"
    }
   ],
   "source": [
    "from IPython.display import Image\n",
    "Image(filename='simulation_result/offline_05.png')"
   ]
  },
  {
   "cell_type": "markdown",
   "id": "1c2f2556",
   "metadata": {},
   "source": [
    "# result(lambda=0.99)"
   ]
  },
  {
   "cell_type": "code",
   "execution_count": 6,
   "id": "a9f8e149",
   "metadata": {},
   "outputs": [
    {
     "data": {
      "text/plain": [
       "<matplotlib.collections.PathCollection at 0x7f435bf906d0>"
      ]
     },
     "execution_count": 6,
     "metadata": {},
     "output_type": "execute_result"
    },
    {
     "data": {
      "image/png": "[encoded data removed]",
      "text/plain": [
       "<Figure size 432x288 with 1 Axes>"
      ]
     },
     "metadata": {
      "needs_background": "light"
     },
     "output_type": "display_data"
    }
   ],
   "source": [
    "from IPython.display import Image\n",
    "Image(filename='simulation_result/offline_099.png')"
   ]
  },
  {
   "cell_type": "markdown",
   "id": "1e2d343a",
   "metadata": {},
   "source": [
    "# 2.Online item list"
   ]
  },
  {
   "cell_type": "code",
   "execution_count": 5,
   "id": "99dcdde9",
   "metadata": {},
   "outputs": [
    {
     "data": {
      "application/vnd.jupyter.widget-view+json": {
       "model_id": "4498dba57cea43b4894e953b1200e752",
       "version_major": 2,
       "version_minor": 0
      },
      "text/plain": [
       "  0%|          | 0/100 [00:00<?, ?it/s]"
      ]
     },
     "metadata": {},
     "output_type": "display_data"
    },
    {
     "data": {
      "application/vnd.jupyter.widget-view+json": {
       "model_id": "8de1751a1a6d4d9bacf5c0ebb6adb076",
       "version_major": 2,
       "version_minor": 0
      },
      "text/plain": [
       "  0%|          | 0/100 [00:00<?, ?it/s]"
      ]
     },
     "metadata": {},
     "output_type": "display_data"
    }
   ],
   "source": [
    "import numpy as np\n",
    "import matplotlib.pyplot as plt\n",
    "from user_model import UserModel, Popularity\n",
    "from IPython.display import clear_output\n",
    "\n",
    "jaccard_list = list()\n",
    "\n",
    "for _ in range(10):\n",
    "\n",
    "    _jaccard_list = list()\n",
    "\n",
    "    user_num = 100\n",
    "    iter_num = 100\n",
    "\n",
    "    user_model = UserModel(user_num, 10, iter=iter_num)\n",
    "\n",
    "    neighborhood = user_model.neighborhood()\n",
    "\n",
    "    popularity_model = Popularity(user_num, 10 * iter_num)\n",
    "    \n",
    "    ideal_idx = user_model.add_model()\n",
    "    popularity_idx = user_model.add_model()\n",
    "    mf_idx = user_model.add_model()\n",
    "    mf_calibration_idx = user_model.add_model()\n",
    "    bpr = None # mf model\n",
    "    bpr_calibration = None\n",
    "    \n",
    "    ### Calibration Config############\n",
    "    pseudo_attributes = ItemAttributes()\n",
    "    #itemId2Item = pseudo_attributes.thresholding(user_model)\n",
    "    #ideal_distribution_list = pseudo_attributes.ItemDistribution(pseudo_attributes.ideal_item_list, itemId2Item)\n",
    "    ##################################\n",
    "    \n",
    "    for iter in range(iter_num):\n",
    "        clear_output(wait=True)\n",
    "        # Ideal\n",
    "        if iter < 10:\n",
    "            user_model.recommend([[] for _ in range(user_num)], ideal_idx)\n",
    "        else:\n",
    "            user_model.recommend(user_model.get_ideal(ideal_idx), ideal_idx)\n",
    "        \n",
    "        ideal_jaccard = np.array([user_model.jaccard(ideal_idx, u, neighborhood[u]) for u in range(user_num)]).mean()\n",
    "        # end Ideal\n",
    "\n",
    "        # Popularity\n",
    "        if iter < 10:\n",
    "            feedback = user_model.recommend([[] for _ in range(user_num)], popularity_idx)\n",
    "            popularity_model.feedback(feedback)\n",
    "        else:\n",
    "            pred = popularity_model.predict(user_model.selected[popularity_idx])\n",
    "            feedback = user_model.recommend(pred, popularity_idx)\n",
    "            popularity_model.feedback(feedback)\n",
    "\n",
    "        popularity_jaccard = np.array([user_model.jaccard(popularity_idx, u, neighborhood[u]) for u in range(user_num)]).mean()\n",
    "        # end Popularity\n",
    "        \n",
    "        # get attributes\n",
    "        itemId2Item = pseudo_attributes.thresholding(user_model)\n",
    "        ideal_item_list = pseudo_attributes.ideal_ItemList(user_model)\n",
    "        ideal_distribution_list = pseudo_attributes.ItemDistribution(ideal_item_list, itemId2Item)\n",
    "        # MF & MF calibration\n",
    "        if iter < 10:\n",
    "            feedback = user_model.recommend([[] for _ in range(user_num)], mf_idx)\n",
    "            feedback = user_model.recommend([[] for _ in range(user_num)], mf_calibration_idx)\n",
    "        else:\n",
    "            if not bpr: \n",
    "                bpr = train(user_model.selected[mf_idx].copy(),None)\n",
    "            if not bpr_calibration:\n",
    "                bpr_calibration = train(user_model.selected[mf_calibration_idx].copy(), None)\n",
    "             \n",
    "            ########## MF ##############\n",
    "            ## Inference\n",
    "            old_user_item_table = user_model.selected[mf_idx].copy()\n",
    "            top_k = 20 # assume recommend 20 items to each user\n",
    "            rank_list, _ = recommend_all(bpr, csr_matrix(old_user_item_table), user_num=100, top_k=top_k) # size of rank_list : (user_num, top_k)\n",
    "\n",
    "            ## User Interaction\n",
    "            user_model.recommend(rank_list, model_idx=mf_idx)\n",
    "            new_user_item_table = user_model.selected[mf_idx].copy()\n",
    "\n",
    "            ## Retrain Model\n",
    "            bpr = train(new_user_item_table, bpr)\n",
    "            ###########################\n",
    "            \n",
    "            ######## MF Calibration #####\n",
    "            ## Inference\n",
    "            old_user_item_table = user_model.selected[mf_calibration_idx].copy()\n",
    "            top_k = 20 # assume recommend 20 items to each user\n",
    "            rank_list, score_list = recommend_all(bpr_calibration, csr_matrix(old_user_item_table), user_num=100, top_k=top_k) # size of rank_list : (user_num, top_k)\n",
    "            post_rank_list = calibration_all(rank_list, score_list, itemId2Item, ideal_distribution_list)\n",
    "            \n",
    "            ## User Interaction\n",
    "            user_model.recommend(post_rank_list, model_idx=mf_calibration_idx)\n",
    "            new_user_item_table = user_model.selected[mf_calibration_idx].copy()\n",
    "\n",
    "            ## Retrain Model\n",
    "            bpr_calibration = train(new_user_item_table, bpr_calibration)\n",
    "            ###########################\n",
    "        if bpr:\n",
    "            mf_jaccard = np.array([user_model.jaccard(mf_idx, u, mf_neighnorhood(u,bpr)) for u in range(user_num)]).mean()\n",
    "            ideal_jaccard2 = np.array([user_model.jaccard(ideal_idx, u, mf_neighnorhood(u,bpr)) for u in range(user_num)]).mean()\n",
    "        else:\n",
    "            mf_jaccard = np.array([user_model.jaccard(mf_idx, u, neighborhood[u]) for u in range(user_num)]).mean() \n",
    "            ideal_jaccard2 = np.array([user_model.jaccard(ideal_idx, u, neighborhood[u]) for u in range(user_num)]).mean()\n",
    "        # end MF\n",
    "        if bpr_calibration:\n",
    "            mf_calibration_jaccard = np.array([user_model.jaccard(mf_calibration_idx, u, mf_neighnorhood(u,bpr_calibration)) for u in range(user_num)]).mean()\n",
    "            ideal_jaccard3 = np.array([user_model.jaccard(ideal_idx, u, mf_neighnorhood(u,bpr_calibration)) for u in range(user_num)]).mean()\n",
    "        else:\n",
    "            mf_calibration_jaccard = np.array([user_model.jaccard(mf_calibration_idx, u, neighborhood[u]) for u in range(user_num)]).mean() \n",
    "            ideal_jaccard3 = np.array([user_model.jaccard(ideal_idx, u, neighborhood[u]) for u in range(user_num)]).mean()\n",
    "        # end MF calibration\n",
    "        \n",
    "        \n",
    "        _jaccard_list.append([popularity_jaccard - ideal_jaccard, mf_jaccard - ideal_jaccard2, mf_calibration_jaccard - ideal_jaccard3])\n",
    "        user_model.new_iter()\n",
    "        \n",
    "    jaccard_list.append(_jaccard_list)\n",
    "    #clear_output()"
   ]
  },
  {
   "cell_type": "code",
   "execution_count": 6,
   "id": "47b888b0",
   "metadata": {},
   "outputs": [
    {
     "data": {
      "text/plain": [
       "<matplotlib.collections.PathCollection at 0x7f4542e13670>"
      ]
     },
     "execution_count": 6,
     "metadata": {},
     "output_type": "execute_result"
    },
    {
     "data": {
      "image/png": "[encoded data removed]",
      "text/plain": [
       "<Figure size 432x288 with 1 Axes>"
      ]
     },
     "metadata": {
      "needs_background": "light"
     },
     "output_type": "display_data"
    }
   ],
   "source": [
    "plt.clf()\n",
    "plt.scatter(list(range(100)), np.array(jaccard_list).mean(axis=0)[:,0])\n",
    "plt.scatter(list(range(100)), np.array(jaccard_list).mean(axis=0)[:,1])\n",
    "plt.scatter(list(range(100)), np.array(jaccard_list).mean(axis=0)[:,2])"
   ]
  },
  {
   "cell_type": "markdown",
   "id": "0d7acd3b",
   "metadata": {},
   "source": [
    "# result(lambda=0.99)"
   ]
  },
  {
   "cell_type": "code",
   "execution_count": 8,
   "id": "4d2857e5",
   "metadata": {},
   "outputs": [
    {
     "data": {
      "image/png": "[encoded data removed]",
      "text/plain": [
       "<IPython.core.display.Image object>"
      ]
     },
     "execution_count": 8,
     "metadata": {},
     "output_type": "execute_result"
    }
   ],
   "source": [
    "from IPython.display import Image\n",
    "Image(filename='simulation_result/online_099.png') "
   ]
  },
  {
   "cell_type": "code",
   "execution_count": null,
   "id": "cd404fec",
   "metadata": {},
   "outputs": [],
   "source": []
  }
 ],
 "metadata": {
  "kernelspec": {
   "display_name": "Python (matching)",
   "language": "python",
   "name": "matching"
  },
  "language_info": {
   "codemirror_mode": {
    "name": "ipython",
    "version": 3
   },
   "file_extension": ".py",
   "mimetype": "text/x-python",
   "name": "python",
   "nbconvert_exporter": "python",
   "pygments_lexer": "ipython3",
   "version": "3.8.10"
  },
  "metadata": {
   "interpreter": {
    "hash": "2db524e06e9f5f4ffedc911c917cb75e12dbc923643829bf417064a77eb14d37"
   }
  }
 },
 "nbformat": 4,
 "nbformat_minor": 5
}
