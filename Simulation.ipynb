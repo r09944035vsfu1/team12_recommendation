{
 "cells": [
  {
   "cell_type": "markdown",
   "metadata": {},
   "source": [
    "# Environment"
   ]
  },
  {
   "cell_type": "code",
   "execution_count": null,
   "metadata": {},
   "outputs": [],
   "source": [
    "!pip install implicit\n",
    "!pip install -U scikit-learn\n",
    "!pip install numpy\n",
    "!pip install matplotlib"
   ]
  },
  {
   "cell_type": "markdown",
   "metadata": {},
   "source": [
    "# MF utils"
   ]
  },
  {
   "cell_type": "code",
   "execution_count": 2,
   "metadata": {},
   "outputs": [],
   "source": [
    "from scipy.sparse import csr_matrix\r\n",
    "from implicit.bpr import BayesianPersonalizedRanking\r\n",
    "from implicit.evaluation import train_test_split, precision_at_k\r\n",
    "\r\n",
    "def data_loader(user_item_table):\r\n",
    "    np.random.seed(1234)\r\n",
    "    user_item_csr = csr_matrix(user_item_table)\r\n",
    "    user_item_train, user_item_test = train_test_split(user_item_csr, train_percentage=0.8)\r\n",
    "    return user_item_train, user_item_test\r\n",
    "def recommend_all(bpr, user_item_table, user_num, top_k):\r\n",
    "    rank_list = list()    \r\n",
    "    for user_id in range(user_num):\r\n",
    "        reco = bpr.recommend(user_id, user_item_table, N=top_k, filter_already_liked_items=True)\r\n",
    "        single_rank_list = [element[0] for element in reco]\r\n",
    "        rank_list.append(single_rank_list)\r\n",
    "    return rank_list\r\n",
    "def train(user_item_table, bpr=None):\r\n",
    "    user_item_train, user_item_test = data_loader(user_item_table)\r\n",
    "    np.random.seed(1234)\r\n",
    "    if bpr:\r\n",
    "        bpr.fit(user_item_train.T.tocsr())\r\n",
    "    else:\r\n",
    "        bpr = BayesianPersonalizedRanking(iterations=100)\r\n",
    "        bpr.fit(user_item_train.T.tocsr()) \r\n",
    "    return bpr\r\n",
    "def mf_neighnorhood(u_id, mf):\r\n",
    "    return mf.similar_users(u_id)[1][0]"
   ]
  },
  {
   "cell_type": "code",
   "execution_count": null,
   "metadata": {},
   "outputs": [],
   "source": [
    "import numpy as np\r\n",
    "import matplotlib.pyplot as plt\r\n",
    "from user_model import UserModel, Popularity\r\n",
    "\r\n",
    "jaccard_list = list()\r\n",
    "\r\n",
    "for _ in range(10):\r\n",
    "\r\n",
    "    _jaccard_list = list()\r\n",
    "\r\n",
    "    user_num = 100\r\n",
    "    iter_num = 100\r\n",
    "\r\n",
    "    user_model = UserModel(user_num, 10, iter=iter_num)\r\n",
    "\r\n",
    "    neighborhood = user_model.neighborhood()\r\n",
    "\r\n",
    "    popularity_model = Popularity(user_num, 10 * iter_num)\r\n",
    "\r\n",
    "    ideal_idx = user_model.add_model()\r\n",
    "    popularity_idx = user_model.add_model()\r\n",
    "    mf_idx = user_model.add_model()\r\n",
    "    bpr = None # mf model\r\n",
    "    \r\n",
    "    for iter in range(iter_num):\r\n",
    "        # Ideal\r\n",
    "        if iter < 10:\r\n",
    "            user_model.recommend([[] for _ in range(user_num)], ideal_idx)\r\n",
    "        else:\r\n",
    "            user_model.recommend(user_model.get_ideal(ideal_idx), ideal_idx)\r\n",
    "        \r\n",
    "        ideal_jaccard = np.array([user_model.jaccard(ideal_idx, u, neighborhood[u]) for u in range(user_num)]).mean()\r\n",
    "        # end Ideal\r\n",
    "\r\n",
    "        # Popularity\r\n",
    "        if iter < 10:\r\n",
    "            feedback = user_model.recommend([[] for _ in range(user_num)], popularity_idx)\r\n",
    "            popularity_model.feedback(feedback)\r\n",
    "        else:\r\n",
    "            pred = popularity_model.predict(user_model.selected[popularity_idx])\r\n",
    "            feedback = user_model.recommend(pred, popularity_idx)\r\n",
    "            popularity_model.feedback(feedback)\r\n",
    "\r\n",
    "        popularity_jaccard = np.array([user_model.jaccard(popularity_idx, u, neighborhood[u]) for u in range(user_num)]).mean()\r\n",
    "        # end Popularity\r\n",
    "        \r\n",
    "        # MF\r\n",
    "        if iter < 10:\r\n",
    "            feedback = user_model.recommend([[] for _ in range(user_num)], mf_idx)\r\n",
    "        else:\r\n",
    "            if not bpr: \r\n",
    "                bpr = train(user_model.selected[mf_idx].copy(),None)\r\n",
    "                \r\n",
    "            ## Inference\r\n",
    "            old_user_item_table = user_model.selected[mf_idx].copy()\r\n",
    "            top_k = 20 # assume recommend 30 items to each user\r\n",
    "            rank_list = recommend_all(bpr, csr_matrix(old_user_item_table), user_num=100, top_k=top_k) # size of rank_list : (user_num, top_k)\r\n",
    "\r\n",
    "            ## User Interaction\r\n",
    "            user_model.recommend(rank_list, model_idx=mf_idx)\r\n",
    "            new_user_item_table = user_model.selected[mf_idx].copy()\r\n",
    "\r\n",
    "            ## Retrain Model\r\n",
    "            bpr = train(new_user_item_table, bpr)\r\n",
    "\r\n",
    "        if bpr:\r\n",
    "            mf_jaccard = np.array([user_model.jaccard(mf_idx, u, mf_neighnorhood(u,bpr)) for u in range(user_num)]).mean()\r\n",
    "            ideal_jaccard2 = np.array([user_model.jaccard(ideal_idx, u, mf_neighnorhood(u,bpr)) for u in range(user_num)]).mean()\r\n",
    "        else:\r\n",
    "            mf_jaccard = np.array([user_model.jaccard(mf_idx, u, neighborhood[u]) for u in range(user_num)]).mean() \r\n",
    "            ideal_jaccard2 = np.array([user_model.jaccard(ideal_idx, u, neighborhood[u]) for u in range(user_num)]).mean()\r\n",
    "        # end MF\r\n",
    "\r\n",
    "        _jaccard_list.append([popularity_jaccard - ideal_jaccard, mf_jaccard - ideal_jaccard2])\r\n",
    "        user_model.new_iter()\r\n",
    "\r\n",
    "    jaccard_list.append(_jaccard_list)"
   ]
  },
  {
   "cell_type": "code",
   "execution_count": 8,
   "metadata": {},
   "outputs": [
    {
     "data": {
      "image/png": "[encoded data removed]",
      "text/plain": "<Figure size 432x288 with 1 Axes>"
     },
     "metadata": {
      "needs_background": "light"
     },
     "output_type": "display_data"
    }
   ],
   "source": [
    "#jaccard_list = np.array(jaccard_list)\r\n",
    "plt.clf()\r\n",
    "plt.scatter(list(range(100)), np.array(jaccard_list).mean(axis=0)[:,0])\r\n",
    "plt.scatter(list(range(100)), np.array(jaccard_list).mean(axis=0)[:,1])"
   ]
  }
 ],
 "metadata": {
  "kernelspec": {
   "display_name": "Python 3.8.2 64-bit",
   "name": "python382jvsc74a57bd02db524e06e9f5f4ffedc911c917cb75e12dbc923643829bf417064a77eb14d37"
  },
  "language_info": {
   "codemirror_mode": {
    "name": "ipython",
    "version": 3
   },
   "file_extension": ".py",
   "mimetype": "text/x-python",
   "name": "python",
   "nbconvert_exporter": "python",
   "pygments_lexer": "ipython3",
   "version": "3.8.2"
  },
  "metadata": {
   "interpreter": {
    "hash": "2db524e06e9f5f4ffedc911c917cb75e12dbc923643829bf417064a77eb14d37"
   }
  }
 },
 "nbformat": 4,
 "nbformat_minor": 5
}